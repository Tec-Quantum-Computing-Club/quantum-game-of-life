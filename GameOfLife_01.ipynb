{
 "cells": [
  {
   "cell_type": "code",
   "execution_count": 4,
   "metadata": {},
   "outputs": [
    {
     "name": "stdout",
     "output_type": "stream",
     "text": [
      "{'0': 620, '1': 404}\n"
     ]
    }
   ],
   "source": [
    "import numpy as np\n",
    "import matplotlib as plt\n",
    "import pennylane as qml\n",
    "from pennylane import numpy as np\n",
    "# Import pygame module\n",
    "\n",
    "u = np.zeros([2**3, 2**3])\n",
    "\n",
    "dev = qml.device(\"default.qubit\", wires= 12, shots = 1024)\n",
    "\n",
    "@qml.qnode(dev)\n",
    "\n",
    "def circuit(x):\n",
    "\n",
    "    for ii in range(len(x)):\n",
    "            qml.RY(np.arccos(-2*x[ii]+1), ii)\n",
    "\n",
    "    for ii in range(2**3):\n",
    "        u[ii][ii-1] = 1\n",
    "\n",
    "    for ii in range(8):\n",
    "        qml.ControlledQubitUnitary(u, control_wires= ii, wires = [8,9,10])\n",
    "    \n",
    "    \n",
    "\n",
    "    qml.ctrl(qml.Hadamard, (8,9,10), control_values=(0,0,1))(11)\n",
    "    \n",
    "    qml.ctrl(qml.Hadamard, (8, 9, 10), control_values=(0,1,0))(11)\n",
    "\n",
    "    qml.ctrl(qml.PauliX, (8, 9, 10), control_values=(0,1,1))(11)\n",
    "    \n",
    "    qml.ctrl(qml.RY, (8,9,10), control_values=(1,0,0))(np.arccos(-0.6), 11)\n",
    "    \n",
    "    qml.ctrl(qml.RY, (8,9,10), control_values=(1,0,1))(np.arccos(-0.2), 11)\n",
    " \n",
    "    qml.ctrl(qml.RY, (8,9,10), control_values=(1,1,0))(np.arccos(0.2), 11)\n",
    "\n",
    "    qml.ctrl(qml.RY, (8,9,10), control_values=(1,1,1))(np.arccos(0.6), 11)\n",
    "    \n",
    "    #return qml.counts(wires = [8,9,10])\n",
    "    return qml.counts(wires = [11])\n",
    "\n",
    "result = circuit([0,1,1,1,1,0,1,1])\n",
    "print(result)"
   ]
  }
 ],
 "metadata": {
  "kernelspec": {
   "display_name": "Python 3",
   "language": "python",
   "name": "python3"
  },
  "language_info": {
   "codemirror_mode": {
    "name": "ipython",
    "version": 3
   },
   "file_extension": ".py",
   "mimetype": "text/x-python",
   "name": "python",
   "nbconvert_exporter": "python",
   "pygments_lexer": "ipython3",
   "version": "3.10.10"
  },
  "orig_nbformat": 4,
  "vscode": {
   "interpreter": {
    "hash": "9266bbe18372719b70b904914937ea647dd8e7b806a2212c33f1ea607ad711c8"
   }
  }
 },
 "nbformat": 4,
 "nbformat_minor": 2
}
